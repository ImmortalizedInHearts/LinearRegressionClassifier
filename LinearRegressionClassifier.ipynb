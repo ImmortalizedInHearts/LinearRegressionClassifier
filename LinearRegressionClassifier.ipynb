{
  "nbformat": 4,
  "nbformat_minor": 0,
  "metadata": {
    "colab": {
      "name": "LinearRegressionClassifier.ipynb",
      "provenance": [],
      "collapsed_sections": [],
      "authorship_tag": "ABX9TyPfO7c43kbRAOe5WCQayaCc",
      "include_colab_link": true
    },
    "kernelspec": {
      "name": "python3",
      "display_name": "Python 3"
    }
  },
  "cells": [
    {
      "cell_type": "markdown",
      "metadata": {
        "id": "view-in-github",
        "colab_type": "text"
      },
      "source": [
        "<a href=\"https://colab.research.google.com/github/ImmortalizedInHearts/LinearRegressionClassifier/blob/master/LinearRegressionClassifier.ipynb\" target=\"_parent\"><img src=\"https://colab.research.google.com/assets/colab-badge.svg\" alt=\"Open In Colab\"/></a>"
      ]
    },
    {
      "cell_type": "code",
      "metadata": {
        "id": "DY5eylJs51hJ",
        "colab_type": "code",
        "colab": {}
      },
      "source": [
        "import scipy.io\n",
        "import matplotlib.pyplot as plt\n",
        "import numpy as np\n",
        "import math\n",
        "import matplotlib.cm as cm\n",
        "import random"
      ],
      "execution_count": null,
      "outputs": []
    },
    {
      "cell_type": "code",
      "metadata": {
        "id": "t1XSY72B6uFz",
        "colab_type": "code",
        "colab": {}
      },
      "source": [
        "mat = scipy.io.loadmat('data.mat')\n",
        "trainInputs = np.transpose(mat['data']['training'][0][0][0][0][0])\n",
        "trainTargets = np.array([list(x).index(1) for x in np.transpose(mat['data']['training'][0][0][0][0][1])]).reshape(1,1000)\n",
        "testInputs = np.transpose(mat['data']['test'][0][0][0][0][0])\n",
        "testTargets = np.array([list(x).index(1) for x in np.transpose(mat['data']['test'][0][0][0][0][1])]).reshape(1,9000)\n",
        "\n",
        "train = [trainInputs, trainTargets]\n",
        "test = [testInputs, testTargets]\n",
        "\n",
        "#kParameters = np.array([random.random() for i in range(256)])\n",
        "kParameters = np.zeros(256)\n",
        "\n",
        "\n",
        "confMatrix = [[0 for x in range(10)] for i in range(10)]"
      ],
      "execution_count": null,
      "outputs": []
    },
    {
      "cell_type": "code",
      "metadata": {
        "id": "9F2BCLXq9nv8",
        "colab_type": "code",
        "colab": {}
      },
      "source": [
        "def linearRegressionClassifier(testData, k):\n",
        "  deltK = np.array([(k @ testData[0].T - testData[1]) @ testData[0]]).reshape(1,256)\n",
        "  return k - 0.0001 * deltK / len(testData[0])\n",
        "\n",
        "def costCalculation(testData, k):\n",
        "  return sum((k @ testData[0] - testData[1]) ** 2) / (2 * len(test[0]))\n",
        "\n"
      ],
      "execution_count": null,
      "outputs": []
    },
    {
      "cell_type": "code",
      "metadata": {
        "id": "b0CBmBfDKczs",
        "colab_type": "code",
        "colab": {}
      },
      "source": [
        "for i in range(30000):\n",
        "  #print(kParameters[0])\n",
        "  kParameters = linearRegressionClassifier(test, kParameters)"
      ],
      "execution_count": null,
      "outputs": []
    },
    {
      "cell_type": "code",
      "metadata": {
        "id": "P3edxSC7D8jQ",
        "colab_type": "code",
        "colab": {}
      },
      "source": [
        "kParameters"
      ],
      "execution_count": null,
      "outputs": []
    },
    {
      "cell_type": "code",
      "metadata": {
        "id": "sMJ5-afRVgjL",
        "colab_type": "code",
        "colab": {}
      },
      "source": [
        "def targetsSearch(k, trainData):\n",
        "  return np.array([k @ trainData[0].T]).reshape(1000)"
      ],
      "execution_count": null,
      "outputs": []
    },
    {
      "cell_type": "code",
      "metadata": {
        "id": "ayMQSH3A-K2X",
        "colab_type": "code",
        "colab": {}
      },
      "source": [
        "targets = targetsSearch(kParameters, train)\n",
        "for index in range(len(targets)):\n",
        "  #print(index)\n",
        "  confMatrix[train[1].reshape(1000)[index]][int(targets[index])] += 1"
      ],
      "execution_count": null,
      "outputs": []
    },
    {
      "cell_type": "code",
      "metadata": {
        "id": "aucp_Udn9xPe",
        "colab_type": "code",
        "colab": {}
      },
      "source": [
        "targets"
      ],
      "execution_count": null,
      "outputs": []
    },
    {
      "cell_type": "code",
      "metadata": {
        "id": "ZezRWdkavLuQ",
        "colab_type": "code",
        "colab": {
          "base_uri": "https://localhost:8080/",
          "height": 34
        },
        "outputId": "fce068d2-6938-424b-c353-89232dc4f59b"
      },
      "source": [
        "train[1].reshape(1000)[517]"
      ],
      "execution_count": null,
      "outputs": [
        {
          "output_type": "execute_result",
          "data": {
            "text/plain": [
              "7"
            ]
          },
          "metadata": {
            "tags": []
          },
          "execution_count": 200
        }
      ]
    },
    {
      "cell_type": "code",
      "metadata": {
        "id": "Mlmtrto_6jAD",
        "colab_type": "code",
        "colab": {
          "base_uri": "https://localhost:8080/",
          "height": 34
        },
        "outputId": "f4c29d51-508b-4c0c-a4f7-2514cd6a1b6b"
      },
      "source": [
        "math.trunc(targets[517])"
      ],
      "execution_count": null,
      "outputs": [
        {
          "output_type": "execute_result",
          "data": {
            "text/plain": [
              "10"
            ]
          },
          "metadata": {
            "tags": []
          },
          "execution_count": 277
        }
      ]
    },
    {
      "cell_type": "code",
      "metadata": {
        "id": "AKwKiqkD-QYQ",
        "colab_type": "code",
        "colab": {
          "base_uri": "https://localhost:8080/",
          "height": 182
        },
        "outputId": "e4eccd82-a745-4d51-ee67-fe961acdff48"
      },
      "source": [
        "confMatrix"
      ],
      "execution_count": null,
      "outputs": [
        {
          "output_type": "execute_result",
          "data": {
            "text/plain": [
              "[[9, 26, 31, 26, 4, 1, 2, 1, 0, 0],\n",
              " [0, 16, 41, 23, 8, 6, 4, 1, 1, 0],\n",
              " [1, 13, 28, 34, 13, 5, 6, 0, 0, 0],\n",
              " [1, 7, 10, 25, 33, 18, 4, 1, 1, 0],\n",
              " [1, 3, 9, 28, 30, 19, 6, 3, 1, 0],\n",
              " [1, 12, 16, 22, 21, 14, 10, 3, 0, 1],\n",
              " [1, 14, 35, 32, 14, 4, 0, 0, 0, 0],\n",
              " [3, 2, 5, 15, 22, 27, 17, 6, 2, 1],\n",
              " [0, 0, 3, 4, 15, 25, 24, 16, 10, 3],\n",
              " [0, 0, 1, 4, 12, 22, 25, 19, 16, 1]]"
            ]
          },
          "metadata": {
            "tags": []
          },
          "execution_count": 8
        }
      ]
    },
    {
      "cell_type": "code",
      "metadata": {
        "id": "4lOjacK7F50a",
        "colab_type": "code",
        "colab": {
          "base_uri": "https://localhost:8080/",
          "height": 34
        },
        "outputId": "02e6a90b-7d8d-4f71-eaf3-a79c017f3f93"
      },
      "source": [
        "np.mean([confMatrix[i][i] for i in range(10)])"
      ],
      "execution_count": null,
      "outputs": [
        {
          "output_type": "execute_result",
          "data": {
            "text/plain": [
              "13.9"
            ]
          },
          "metadata": {
            "tags": []
          },
          "execution_count": 9
        }
      ]
    },
    {
      "cell_type": "code",
      "metadata": {
        "id": "twnrQceNG6v9",
        "colab_type": "code",
        "colab": {}
      },
      "source": [
        ""
      ],
      "execution_count": null,
      "outputs": []
    }
  ]
}